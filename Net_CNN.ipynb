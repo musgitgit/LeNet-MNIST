{
  "nbformat": 4,
  "nbformat_minor": 0,
  "metadata": {
    "colab": {
      "name": "Net-CNN.ipynb",
      "provenance": [],
      "collapsed_sections": []
    },
    "kernelspec": {
      "name": "python3",
      "display_name": "Python 3"
    },
    "language_info": {
      "name": "python"
    },
    "accelerator": "GPU"
  },
  "cells": [
    {
      "cell_type": "markdown",
      "metadata": {
        "id": "VeXsSiFQA2rA"
      },
      "source": [
        "\n",
        "\n",
        "\n",
        "#                                **LeNet MNIST**"
      ]
    },
    {
      "cell_type": "markdown",
      "metadata": {
        "id": "tftyjcSH6tBH"
      },
      "source": [
        "CNN est essentiellement un modèle connu pour être un réseau de neurones convolutifs et, ces derniers temps, il a gagné en popularité en raison de son utilité. CNN utilise des perceptrons multicouches pour effectuer des travaux de calcul. CNN utilise relativement peu de prétraitement par rapport aux autres algorithmes de classification d'images. Cela signifie que le réseau apprend à travers des filtres qui, dans les algorithmes traditionnels, ont été conçus à la main. Ainsi, pour les tâches de traitement d'image, les CNN sont l'option la mieux adaptée.\n",
        "\n",
        " "
      ]
    },
    {
      "cell_type": "code",
      "metadata": {
        "id": "Me0IMaLMc0EX",
        "colab": {
          "base_uri": "https://localhost:8080/"
        },
        "outputId": "a15230e4-d8a9-46f8-b623-4b708c020344"
      },
      "source": [
        "# charger  minit data\n",
        "from keras.datasets import mnist\n",
        "(x_train, y_train),(x_test, y_test) = mnist.load_data()"
      ],
      "execution_count": null,
      "outputs": [
        {
          "output_type": "stream",
          "name": "stdout",
          "text": [
            "Downloading data from https://storage.googleapis.com/tensorflow/tf-keras-datasets/mnist.npz\n",
            "11493376/11490434 [==============================] - 0s 0us/step\n",
            "11501568/11490434 [==============================] - 0s 0us/step\n"
          ]
        }
      ]
    },
    {
      "cell_type": "markdown",
      "metadata": {
        "id": "Eng-lKSV2ZDr"
      },
      "source": [
        "On commence par charger le data minit\n",
        "et afficher une seule image en nivau de gris"
      ]
    },
    {
      "cell_type": "code",
      "metadata": {
        "colab": {
          "base_uri": "https://localhost:8080/",
          "height": 132
        },
        "id": "NUBWFDTtfYob",
        "outputId": "15f484fb-be05-4c95-b372-85efa631d921"
      },
      "source": [
        "# plot \n",
        "import matplotlib.pyplot as plt\n",
        "\n",
        "plt.subplot(321)\n",
        "plt.imshow(x_train[0],cmap=plt.get_cmap('gray'))"
      ],
      "execution_count": null,
      "outputs": [
        {
          "output_type": "execute_result",
          "data": {
            "text/plain": [
              "<matplotlib.image.AxesImage at 0x7fa568354dd0>"
            ]
          },
          "metadata": {},
          "execution_count": 2
        },
        {
          "output_type": "display_data",
          "data": {
            "image/png": "[encoded data removed]",
            "text/plain": [
              "<Figure size 432x288 with 1 Axes>"
            ]
          },
          "metadata": {
            "needs_background": "light"
          }
        }
      ]
    },
    {
      "cell_type": "markdown",
      "metadata": {
        "id": "5I_KdAoT2yq7"
      },
      "source": [
        "Ensuite, on reshape pour avoir 28 * 28, les données test et les données train"
      ]
    },
    {
      "cell_type": "code",
      "metadata": {
        "id": "Fzkx2eqAfoS_"
      },
      "source": [
        "# redimentionner [samples][width][height][pixels]\n",
        "x_train = x_train.reshape(x_train.shape[0], 28, 28, 1).astype('float32')\n",
        "x_test = x_test.reshape(x_test.shape[0], 28, 28, 1).astype('float32')"
      ],
      "execution_count": null,
      "outputs": []
    },
    {
      "cell_type": "markdown",
      "metadata": {
        "id": "-B0U878B3C2A"
      },
      "source": [
        "Ensuite on passe à la normalisation en divisant sur 255"
      ]
    },
    {
      "cell_type": "code",
      "metadata": {
        "id": "qsgF2liegD25"
      },
      "source": [
        "# normalisation\n",
        "x_train = x_train / 255.0\n",
        "x_test = x_test / 255.0"
      ],
      "execution_count": null,
      "outputs": []
    },
    {
      "cell_type": "markdown",
      "metadata": {
        "id": "F_0t4ND13L4z"
      },
      "source": [
        "On utilise la méthode to_categoricalqui permet , un tableau numpy (ou) un vecteur qui a des entiers qui représentent différentes catégories, d'être converti en un tableau numpy (ou) une matrice qui a des valeurs binaires et a des colonnes égales au nombre de catégories dans le Les données.\n",
        "Étant donné que la sortie du modèle peut comprendre n'importe lequel des chiffres compris entre 0 et 9. nous avons donc besoin de 10 classes en sortie. Pour créer une sortie pour 10 classes, on utilise cette fonction, qui fournira les 10 colonnes. Sur ces 10 colonnes, une seule valeur sera un et les 9 autres seront zéro et cette seule valeur de la sortie dénotera la classe du chiffre."
      ]
    },
    {
      "cell_type": "code",
      "metadata": {
        "id": "vPV3qRr4gTk6"
      },
      "source": [
        "import numpy as np\n",
        "from keras.utils import np_utils\n",
        "\n",
        "# to_categorical\n",
        "y_train = np_utils.to_categorical(y_train)\n",
        "y_test = np_utils.to_categorical(y_test)\n",
        "\n",
        "# parameters\n",
        "EPOCHS = 10\n",
        "INIT_LR = 1e-3\n",
        "BS = 32\n",
        "CLASS_NUM = 10\n",
        "norm_size = 28"
      ],
      "execution_count": null,
      "outputs": []
    },
    {
      "cell_type": "markdown",
      "metadata": {
        "id": "rRclomep4GEG"
      },
      "source": [
        "Importation des bibliothèques nécessaires pour notre model \n"
      ]
    },
    {
      "cell_type": "code",
      "metadata": {
        "id": "evQ7VhyVmobp"
      },
      "source": [
        "from tensorflow.keras.optimizers import Adam\n",
        "from keras.preprocessing.image import ImageDataGenerator\n",
        "from keras.models import Sequential\n",
        "from keras.layers.convolutional import Conv2D\n",
        "from keras.layers.convolutional import MaxPooling2D\n",
        "from keras.layers.core import Activation\n",
        "from keras.layers.core import Flatten\n",
        "from keras.layers.core import Dense\n",
        "from keras import backend as K\n",
        "from keras.models import load_model"
      ],
      "execution_count": null,
      "outputs": []
    },
    {
      "cell_type": "markdown",
      "metadata": {
        "id": "0JQ3eHX54Syr"
      },
      "source": [
        "On commence par définir notre model sequential (est approprié pour une pile simple de couches où chaque couche a exactement un tenseur d'entrée et un tenseur de sortie), ce qui appreprié à notre cas.\n"
      ]
    },
    {
      "cell_type": "code",
      "metadata": {
        "id": "ebdAmVE4g5fP"
      },
      "source": [
        "# définir le model NET\n",
        "def l_model(width, height, depth, NB_CLASS):\n",
        "    model = Sequential()\n",
        "    inputShape = (height, width, depth)\n",
        "    # si nous utilisons \"channels last\", mettez à jour la forme d'entrée\n",
        "    if K.image_data_format() == \"channels_first\": \n",
        "        inputShape = (depth, height, width)\n",
        "    # premier ensemble de couches CONV => RELU => POOL                  \n",
        "    model.add(Conv2D(6, (5, 5), padding=\"same\", input_shape=inputShape))\n",
        "    model.add(Activation(\"relu\"))\n",
        "    model.add(MaxPooling2D(pool_size=(2, 2), strides=(2, 2)))\n",
        "    # deuxième ensemble de couches CONV => RELU => POOL                  \n",
        "    model.add(Conv2D(16, (5, 5), padding=\"valid\"))\n",
        "    model.add(Activation(\"relu\"))\n",
        "    model.add(MaxPooling2D(pool_size=(2, 2), strides=(2, 2)))\n",
        "    # premier ensemble de couches FC => RELU                             \n",
        "    model.add(Flatten())\n",
        "    model.add(Dense(120))\n",
        "    model.add(Activation(\"relu\"))\n",
        "    # 2 ème ensemble de couches FC => RELU                              \n",
        "    model.add(Flatten())\n",
        "    model.add(Dense(84))\n",
        "    model.add(Activation(\"relu\"))\n",
        "    # 3 ème ensemble de couches FC => RELU                              \n",
        "    model.add(Flatten())\n",
        "    model.add(Dense(10))\n",
        "    model.add(Activation(\"relu\"))\n",
        "\n",
        "    # softmax classifieur                                              \n",
        "    model.add(Dense(NB_CLASS))\n",
        "    model.add(Activation(\"softmax\"))\n",
        "\n",
        "    # renvoie l'architecture du réseau construite\n",
        "    return model\n"
      ],
      "execution_count": null,
      "outputs": []
    },
    {
      "cell_type": "code",
      "metadata": {
        "colab": {
          "base_uri": "https://localhost:8080/"
        },
        "id": "glZ7l7vUGdGg",
        "outputId": "a8a6c0eb-067d-49c9-841a-3b9638e99d50"
      },
      "source": [
        "# affichage des caracteristiques du model\n",
        "model.summary()"
      ],
      "execution_count": null,
      "outputs": [
        {
          "output_type": "stream",
          "name": "stdout",
          "text": [
            "Model: \"sequential\"\n",
            "_________________________________________________________________\n",
            "Layer (type)                 Output Shape              Param #   \n",
            "=================================================================\n",
            "conv2d (Conv2D)              (None, 28, 28, 6)         156       \n",
            "_________________________________________________________________\n",
            "activation (Activation)      (None, 28, 28, 6)         0         \n",
            "_________________________________________________________________\n",
            "max_pooling2d (MaxPooling2D) (None, 14, 14, 6)         0         \n",
            "_________________________________________________________________\n",
            "conv2d_1 (Conv2D)            (None, 10, 10, 16)        2416      \n",
            "_________________________________________________________________\n",
            "activation_1 (Activation)    (None, 10, 10, 16)        0         \n",
            "_________________________________________________________________\n",
            "max_pooling2d_1 (MaxPooling2 (None, 5, 5, 16)          0         \n",
            "_________________________________________________________________\n",
            "flatten (Flatten)            (None, 400)               0         \n",
            "_________________________________________________________________\n",
            "dense (Dense)                (None, 120)               48120     \n",
            "_________________________________________________________________\n",
            "activation_2 (Activation)    (None, 120)               0         \n",
            "_________________________________________________________________\n",
            "flatten_1 (Flatten)          (None, 120)               0         \n",
            "_________________________________________________________________\n",
            "dense_1 (Dense)              (None, 84)                10164     \n",
            "_________________________________________________________________\n",
            "activation_3 (Activation)    (None, 84)                0         \n",
            "_________________________________________________________________\n",
            "flatten_2 (Flatten)          (None, 84)                0         \n",
            "_________________________________________________________________\n",
            "dense_2 (Dense)              (None, 10)                850       \n",
            "_________________________________________________________________\n",
            "activation_4 (Activation)    (None, 10)                0         \n",
            "_________________________________________________________________\n",
            "dense_3 (Dense)              (None, 10)                110       \n",
            "_________________________________________________________________\n",
            "activation_5 (Activation)    (None, 10)                0         \n",
            "=================================================================\n",
            "Total params: 61,816\n",
            "Trainable params: 61,816\n",
            "Non-trainable params: 0\n",
            "_________________________________________________________________\n"
          ]
        }
      ]
    },
    {
      "cell_type": "markdown",
      "metadata": {
        "id": "X12DGdq17rer"
      },
      "source": [
        "1- la couche Conv2d qui convolue l'image à l'aide de 6 filtres de taille chacun (5 X 5). \n",
        "\n",
        "2 -  une autre couche Conv2D qui est également utilisée pour convoluer l'image et utilise 16 filtres de taille chacun (5 X 5). \n",
        "\n",
        "3-  la couche MaxPooling2D qui sélectionne la valeur maximale d'une matrice de taille (2 X 2). \n",
        "\n",
        "4 - (model.add(Flatten()) : aplatit la sortie obtenue, et cette sortie aplatie est transmise au niveau suivant. \n",
        "\n",
        "5 -  une couche cachée d'un réseau de neurones contenant 120 neurones.\n",
        "\n",
        "6 -  une couche cachée d'un réseau de neurones contenant 84 neurones.\n",
        "\n",
        "7 -  une couche cachée d'un réseau de neurones contenant 10 neurones. \n",
        "\n",
        "8 - la couche de sortie ayant 10 classes de sortie qui utilise la fonction softmax.\n",
        "\n",
        "Dans la suite on fait appel à compile et fit:"
      ]
    },
    {
      "cell_type": "code",
      "metadata": {
        "colab": {
          "base_uri": "https://localhost:8080/"
        },
        "id": "qkMIUEMfpGv4",
        "outputId": "040d2ca2-e704-42ca-ac5d-69719308e238"
      },
      "source": [
        "model = l_model(width=norm_size, height=norm_size, depth=1, NB_CLASS=CLASS_NUM)\n",
        "opt = Adam(lr=INIT_LR, decay=INIT_LR / EPOCHS)\n",
        "model.compile(loss=\"categorical_crossentropy\", optimizer=opt, metrics=[\"accuracy\"])\n",
        "\n",
        "# traning\n",
        "H = model.fit(x_train, y_train, batch_size=BS, epochs=EPOCHS,validation_data=(x_test, y_test), verbose=1)"
      ],
      "execution_count": null,
      "outputs": [
        {
          "output_type": "stream",
          "name": "stderr",
          "text": [
            "/usr/local/lib/python3.7/dist-packages/keras/optimizer_v2/optimizer_v2.py:356: UserWarning: The `lr` argument is deprecated, use `learning_rate` instead.\n",
            "  \"The `lr` argument is deprecated, use `learning_rate` instead.\")\n"
          ]
        },
        {
          "output_type": "stream",
          "name": "stdout",
          "text": [
            "Epoch 1/10\n",
            "1875/1875 [==============================] - 40s 5ms/step - loss: 0.2224 - accuracy: 0.9293 - val_loss: 0.0579 - val_accuracy: 0.9829\n",
            "Epoch 2/10\n",
            "1875/1875 [==============================] - 9s 5ms/step - loss: 0.0627 - accuracy: 0.9809 - val_loss: 0.0413 - val_accuracy: 0.9868\n",
            "Epoch 3/10\n",
            "1875/1875 [==============================] - 9s 5ms/step - loss: 0.0431 - accuracy: 0.9867 - val_loss: 0.0464 - val_accuracy: 0.9848\n",
            "Epoch 4/10\n",
            "1875/1875 [==============================] - 9s 5ms/step - loss: 0.0323 - accuracy: 0.9900 - val_loss: 0.0271 - val_accuracy: 0.9908\n",
            "Epoch 5/10\n",
            "1875/1875 [==============================] - 10s 5ms/step - loss: 0.0249 - accuracy: 0.9918 - val_loss: 0.0289 - val_accuracy: 0.9906\n",
            "Epoch 6/10\n",
            "1875/1875 [==============================] - 9s 5ms/step - loss: 0.0191 - accuracy: 0.9942 - val_loss: 0.0312 - val_accuracy: 0.9904\n",
            "Epoch 7/10\n",
            "1875/1875 [==============================] - 10s 5ms/step - loss: 0.0151 - accuracy: 0.9954 - val_loss: 0.0295 - val_accuracy: 0.9915\n",
            "Epoch 8/10\n",
            "1875/1875 [==============================] - 9s 5ms/step - loss: 0.0122 - accuracy: 0.9962 - val_loss: 0.0285 - val_accuracy: 0.9907\n",
            "Epoch 9/10\n",
            "1875/1875 [==============================] - 10s 5ms/step - loss: 0.0097 - accuracy: 0.9970 - val_loss: 0.0254 - val_accuracy: 0.9926\n",
            "Epoch 10/10\n",
            "1875/1875 [==============================] - 10s 5ms/step - loss: 0.0086 - accuracy: 0.9970 - val_loss: 0.0315 - val_accuracy: 0.9911\n"
          ]
        }
      ]
    },
    {
      "cell_type": "code",
      "metadata": {
        "colab": {
          "base_uri": "https://localhost:8080/",
          "height": 329
        },
        "id": "w1W-3l3anxiM",
        "outputId": "b1229a2a-4bb0-49a8-a5f7-de4b9f00a8fe"
      },
      "source": [
        "# le processus d'itération\n",
        "N = EPOCHS\n",
        "plt.figure()\n",
        "plt.plot(np.arange(0,N),H.history['loss'],label='loss')\n",
        "plt.plot(np.arange(0,N),H.history['accuracy'],label='train_acc')\n",
        "plt.title('Perte d entraînement et précision sur le classificateur mnist')\n",
        "plt.xlabel('Epoch')\n",
        "plt.ylabel('Loss/Accuracy')\n",
        "plt.legend(loc='lower left')\n",
        "#  Calcul de la perte et de la précision\n",
        "# train\n",
        "tr_loss, tr_accurary = model.evaluate(x_train, y_train)\n",
        "# test\n",
        "te_loss, te_accurary = model.evaluate(x_test, y_test)"
      ],
      "execution_count": null,
      "outputs": [
        {
          "output_type": "stream",
          "name": "stdout",
          "text": [
            "1875/1875 [==============================] - 7s 4ms/step - loss: 0.0052 - accuracy: 0.9983\n",
            "313/313 [==============================] - 1s 4ms/step - loss: 0.0315 - accuracy: 0.9911\n"
          ]
        },
        {
          "output_type": "display_data",
          "data": {
            "image/png": "[encoded data removed]",
            "text/plain": [
              "<Figure size 432x288 with 1 Axes>"
            ]
          },
          "metadata": {
            "needs_background": "light"
          }
        }
      ]
    },
    {
      "cell_type": "markdown",
      "metadata": {
        "id": "uHCUlUJoAk4L"
      },
      "source": [
        "Enfin on arrive à voir les résultats suivant:"
      ]
    },
    {
      "cell_type": "code",
      "metadata": {
        "colab": {
          "base_uri": "https://localhost:8080/",
          "height": 295
        },
        "id": "rr-Nw8Epsr6o",
        "outputId": "5e3c165d-5a70-48bc-82e1-b99c1d4b6336"
      },
      "source": [
        "import matplotlib.pyplot as plt\n",
        "from matplotlib import pyplot\n",
        "pyplot.plot(H.history['accuracy'], label ='train', color = 'red')\n",
        "pyplot.plot(H.history['val_accuracy'], label ='test', color = 'black')\n",
        "pyplot.title('lrate='+str(INIT_LR), pad = -50)"
      ],
      "execution_count": null,
      "outputs": [
        {
          "output_type": "execute_result",
          "data": {
            "text/plain": [
              "Text(0.5, 1.0, 'lrate=0.001')"
            ]
          },
          "metadata": {},
          "execution_count": 10
        },
        {
          "output_type": "display_data",
          "data": {
            "image/png": "[encoded data removed]",
            "text/plain": [
              "<Figure size 432x288 with 1 Axes>"
            ]
          },
          "metadata": {
            "needs_background": "light"
          }
        }
      ]
    },
    {
      "cell_type": "markdown",
      "metadata": {
        "id": "vbdmln-VIdSB"
      },
      "source": [
        "# II) - MNIST Noisy"
      ]
    },
    {
      "cell_type": "code",
      "metadata": {
        "id": "TukfsPklImsA"
      },
      "source": [
        "import scipy.io as sio\n",
        "# charger les données\n",
        "mnistawgn = scipy.io.loadmat('mnist-with-awgn.mat')"
      ],
      "execution_count": null,
      "outputs": []
    },
    {
      "cell_type": "code",
      "metadata": {
        "id": "VlV4hX4gK0dF"
      },
      "source": [
        "train_x = mnistawgn['train_x']\n",
        "train_y = mnistawgn['train_y']\n",
        "test_x = mnistawgn['test_x']\n",
        "test_y = mnistawgn['test_y']"
      ],
      "execution_count": null,
      "outputs": []
    },
    {
      "cell_type": "code",
      "metadata": {
        "id": "RUU35uRPLnMI"
      },
      "source": [
        "# redimentionner \n",
        "train_x = train_x.reshape(60000,28,28,1)\n",
        "test_x = test_x.reshape(10000,28,28,1)"
      ],
      "execution_count": null,
      "outputs": []
    },
    {
      "cell_type": "code",
      "metadata": {
        "id": "75PeMBnXP8un"
      },
      "source": [
        "# normalisation\n",
        "train_x = train_x / 255.0\n",
        "test_x = test_x / 255.0"
      ],
      "execution_count": null,
      "outputs": []
    },
    {
      "cell_type": "code",
      "metadata": {
        "id": "T04xtwNTMlrl"
      },
      "source": [
        "import numpy as np\n",
        "from keras.utils import np_utils\n",
        "\n",
        "# parameters\n",
        "EPOCHS = 10\n",
        "INIT_LR = 1e-3\n",
        "BS = 32\n",
        "CLASS_NUM = 10\n",
        "norm_size = 28"
      ],
      "execution_count": null,
      "outputs": []
    },
    {
      "cell_type": "code",
      "metadata": {
        "id": "uX6eQNQyNefe"
      },
      "source": [
        "from tensorflow.keras import optimizers\n",
        "from tensorflow.keras.optimizers import Adam\n",
        "from keras.preprocessing.image import ImageDataGenerator\n",
        "from keras.models import Sequential\n",
        "from keras.layers.convolutional import Conv2D\n",
        "from keras.layers.convolutional import MaxPooling2D\n",
        "from keras.layers.core import Activation\n",
        "from keras.layers.core import Flatten\n",
        "from keras.layers.core import Dense\n",
        "from keras import backend as K\n",
        "from keras.models import load_model"
      ],
      "execution_count": null,
      "outputs": []
    },
    {
      "cell_type": "code",
      "metadata": {
        "id": "z6VmX7rNNjA3"
      },
      "source": [
        "# définir le model NET\n",
        "def l_model(width, height, depth, NB_CLASS):\n",
        "    model = Sequential()\n",
        "    inputShape = (height, width, depth)\n",
        "    # si nous utilisons \"channels last\", mettez à jour la forme d'entrée\n",
        "    if K.image_data_format() == \"channels_first\": \n",
        "        inputShape = (depth, height, width)\n",
        "    # premier ensemble de couches CONV => RELU => POOL                  \n",
        "    model.add(Conv2D(6, (5, 5), padding=\"same\", input_shape=inputShape))\n",
        "    model.add(Activation(\"relu\"))\n",
        "    model.add(MaxPooling2D(pool_size=(2, 2), strides=(2, 2)))\n",
        "    # deuxième ensemble de couches CONV => RELU => POOL                  \n",
        "    model.add(Conv2D(16, (5, 5), padding=\"valid\"))\n",
        "    model.add(Activation(\"relu\"))\n",
        "    model.add(MaxPooling2D(pool_size=(2, 2), strides=(2, 2)))\n",
        "    # premier ensemble de couches FC => RELU                             \n",
        "    model.add(Flatten())\n",
        "    model.add(Dense(120))\n",
        "    model.add(Activation(\"relu\"))\n",
        "    # 2 ème ensemble de couches FC => RELU                              \n",
        "    model.add(Flatten())\n",
        "    model.add(Dense(84))\n",
        "    model.add(Activation(\"relu\"))\n",
        "    # 3 ème ensemble de couches FC => RELU                              \n",
        "    model.add(Flatten())\n",
        "    model.add(Dense(10))\n",
        "    model.add(Activation(\"relu\"))\n",
        "\n",
        "    # softmax classifieur                                              \n",
        "    model.add(Dense(NB_CLASS))\n",
        "    model.add(Activation(\"softmax\"))\n",
        "\n",
        "    # renvoie l'architecture du réseau construite\n",
        "    return model"
      ],
      "execution_count": null,
      "outputs": []
    },
    {
      "cell_type": "code",
      "metadata": {
        "colab": {
          "base_uri": "https://localhost:8080/"
        },
        "id": "8ttsf1yTNuQj",
        "outputId": "26bd107a-5cec-4d3f-8a65-e467ae58981f"
      },
      "source": [
        "model = l_model(width=norm_size, height=norm_size, depth=1, NB_CLASS=CLASS_NUM)\n",
        "opt = Adam(lr=INIT_LR, decay=INIT_LR / EPOCHS)\n",
        "#sgd = optimizers.SGD(lr=INIT_LR, decay=INIT_LR / EPOCHS, momentum=0.9, nesterov=True)\n",
        "model.compile(loss=\"categorical_crossentropy\", optimizer=opt, metrics=[\"accuracy\"])\n",
        "\n",
        "# traning\n",
        "H = model.fit(train_x, train_y, batch_size=BS, epochs=EPOCHS,validation_data=(test_x, test_y), verbose=1)"
      ],
      "execution_count": null,
      "outputs": [
        {
          "output_type": "stream",
          "name": "stderr",
          "text": [
            "/usr/local/lib/python3.7/dist-packages/keras/optimizer_v2/optimizer_v2.py:356: UserWarning: The `lr` argument is deprecated, use `learning_rate` instead.\n",
            "  \"The `lr` argument is deprecated, use `learning_rate` instead.\")\n"
          ]
        },
        {
          "output_type": "stream",
          "name": "stdout",
          "text": [
            "Epoch 1/10\n",
            "1875/1875 [==============================] - 11s 6ms/step - loss: 0.3402 - accuracy: 0.8887 - val_loss: 0.1132 - val_accuracy: 0.9618\n",
            "Epoch 2/10\n",
            "1875/1875 [==============================] - 11s 6ms/step - loss: 0.1032 - accuracy: 0.9679 - val_loss: 0.0869 - val_accuracy: 0.9718\n",
            "Epoch 3/10\n",
            "1875/1875 [==============================] - 10s 5ms/step - loss: 0.0733 - accuracy: 0.9774 - val_loss: 0.0727 - val_accuracy: 0.9778\n",
            "Epoch 4/10\n",
            "1875/1875 [==============================] - 10s 5ms/step - loss: 0.0575 - accuracy: 0.9818 - val_loss: 0.0635 - val_accuracy: 0.9809\n",
            "Epoch 5/10\n",
            "1875/1875 [==============================] - 11s 6ms/step - loss: 0.0457 - accuracy: 0.9854 - val_loss: 0.0565 - val_accuracy: 0.9834\n",
            "Epoch 6/10\n",
            "1875/1875 [==============================] - 11s 6ms/step - loss: 0.0363 - accuracy: 0.9884 - val_loss: 0.0583 - val_accuracy: 0.9830\n",
            "Epoch 7/10\n",
            "1875/1875 [==============================] - 10s 6ms/step - loss: 0.0295 - accuracy: 0.9903 - val_loss: 0.0602 - val_accuracy: 0.9812\n",
            "Epoch 8/10\n",
            "1875/1875 [==============================] - 11s 6ms/step - loss: 0.0247 - accuracy: 0.9923 - val_loss: 0.0575 - val_accuracy: 0.9825\n",
            "Epoch 9/10\n",
            "1875/1875 [==============================] - 10s 5ms/step - loss: 0.0185 - accuracy: 0.9942 - val_loss: 0.0656 - val_accuracy: 0.9828\n",
            "Epoch 10/10\n",
            "1875/1875 [==============================] - 10s 6ms/step - loss: 0.0156 - accuracy: 0.9945 - val_loss: 0.0670 - val_accuracy: 0.9823\n"
          ]
        }
      ]
    },
    {
      "cell_type": "code",
      "metadata": {
        "colab": {
          "base_uri": "https://localhost:8080/",
          "height": 295
        },
        "id": "OyZp7TGJT_zW",
        "outputId": "14dfc6b7-4ac6-471e-f511-dca90c6bbe1f"
      },
      "source": [
        "import matplotlib.pyplot as plt\n",
        "from matplotlib import pyplot\n",
        "pyplot.plot(H.history['accuracy'], label ='train', color = 'red')\n",
        "pyplot.plot(H.history['val_accuracy'], label ='test', color = 'black')\n",
        "pyplot.title('lrate='+str(INIT_LR), pad = -50)"
      ],
      "execution_count": null,
      "outputs": [
        {
          "output_type": "execute_result",
          "data": {
            "text/plain": [
              "Text(0.5, 1.0, 'lrate=0.001')"
            ]
          },
          "metadata": {},
          "execution_count": 87
        },
        {
          "output_type": "display_data",
          "data": {
            "image/png": "[encoded data removed]",
            "text/plain": [
              "<Figure size 432x288 with 1 Axes>"
            ]
          },
          "metadata": {
            "needs_background": "light"
          }
        }
      ]
    },
    {
      "cell_type": "code",
      "metadata": {
        "colab": {
          "base_uri": "https://localhost:8080/",
          "height": 329
        },
        "id": "ET30B_N3UGJR",
        "outputId": "3d40ebc4-6683-4c5e-d26e-1b7beb7cebd1"
      },
      "source": [
        "# le processus d'itération\n",
        "N = EPOCHS\n",
        "plt.figure()\n",
        "plt.plot(np.arange(0,N),H.history['loss'],label='loss')\n",
        "plt.plot(np.arange(0,N),H.history['accuracy'],label='train_acc')\n",
        "plt.title('Perte d entraînement et précision sur le classificateur mnist')\n",
        "plt.xlabel('Epoch')\n",
        "plt.ylabel('Loss/Accuracy')\n",
        "plt.legend(loc='lower left')\n",
        "#  Calcul de la perte et de la précision\n",
        "# train\n",
        "tr_loss, tr_accurary = model.evaluate(train_x, train_y)\n",
        "# test\n",
        "te_loss, te_accurary = model.evaluate(test_x, test_y)"
      ],
      "execution_count": null,
      "outputs": [
        {
          "output_type": "stream",
          "name": "stdout",
          "text": [
            "1875/1875 [==============================] - 7s 4ms/step - loss: 0.0102 - accuracy: 0.9968\n",
            "313/313 [==============================] - 1s 4ms/step - loss: 0.0670 - accuracy: 0.9823\n"
          ]
        },
        {
          "output_type": "display_data",
          "data": {
            "image/png": "[encoded data removed]",
            "text/plain": [
              "<Figure size 432x288 with 1 Axes>"
            ]
          },
          "metadata": {
            "needs_background": "light"
          }
        }
      ]
    },
    {
      "cell_type": "code",
      "metadata": {
        "colab": {
          "base_uri": "https://localhost:8080/"
        },
        "id": "hob0e1ZIToJe",
        "outputId": "46289bed-b047-4216-a8fb-896065fcadc7"
      },
      "source": [
        "# on utilise SGD comme optimizer cette fois pour comparer les resultats\n",
        "\n",
        "model = l_model(width=norm_size, height=norm_size, depth=1, NB_CLASS=CLASS_NUM)\n",
        "#opt = Adam(lr=INIT_LR, decay=INIT_LR / EPOCHS)\n",
        "sgd = optimizers.SGD(lr=INIT_LR, decay=INIT_LR / EPOCHS, momentum=0.9, nesterov=True)\n",
        "model.compile(loss=\"categorical_crossentropy\", optimizer=sgd, metrics=[\"accuracy\"])\n",
        "\n",
        "# traning\n",
        "H = model.fit(train_x, train_y, batch_size=BS, epochs=EPOCHS,validation_data=(test_x, test_y), verbose=1)"
      ],
      "execution_count": null,
      "outputs": [
        {
          "output_type": "stream",
          "name": "stderr",
          "text": [
            "/usr/local/lib/python3.7/dist-packages/keras/optimizer_v2/optimizer_v2.py:356: UserWarning: The `lr` argument is deprecated, use `learning_rate` instead.\n",
            "  \"The `lr` argument is deprecated, use `learning_rate` instead.\")\n"
          ]
        },
        {
          "output_type": "stream",
          "name": "stdout",
          "text": [
            "Epoch 1/10\n",
            "1875/1875 [==============================] - 11s 6ms/step - loss: 0.9995 - accuracy: 0.6611 - val_loss: 0.2857 - val_accuracy: 0.9116\n",
            "Epoch 2/10\n",
            "1875/1875 [==============================] - 10s 5ms/step - loss: 0.2310 - accuracy: 0.9291 - val_loss: 0.1717 - val_accuracy: 0.9461\n",
            "Epoch 3/10\n",
            "1875/1875 [==============================] - 10s 5ms/step - loss: 0.1705 - accuracy: 0.9475 - val_loss: 0.1503 - val_accuracy: 0.9545\n",
            "Epoch 4/10\n",
            "1875/1875 [==============================] - 10s 6ms/step - loss: 0.1424 - accuracy: 0.9565 - val_loss: 0.1174 - val_accuracy: 0.9634\n",
            "Epoch 5/10\n",
            "1875/1875 [==============================] - 10s 5ms/step - loss: 0.1261 - accuracy: 0.9611 - val_loss: 0.1186 - val_accuracy: 0.9616\n",
            "Epoch 6/10\n",
            "1875/1875 [==============================] - 10s 5ms/step - loss: 0.1134 - accuracy: 0.9646 - val_loss: 0.1045 - val_accuracy: 0.9656\n",
            "Epoch 7/10\n",
            "1875/1875 [==============================] - 10s 5ms/step - loss: 0.1041 - accuracy: 0.9683 - val_loss: 0.0965 - val_accuracy: 0.9688\n",
            "Epoch 8/10\n",
            "1875/1875 [==============================] - 10s 5ms/step - loss: 0.0972 - accuracy: 0.9699 - val_loss: 0.0974 - val_accuracy: 0.9706\n",
            "Epoch 9/10\n",
            "1875/1875 [==============================] - 10s 5ms/step - loss: 0.0918 - accuracy: 0.9715 - val_loss: 0.0995 - val_accuracy: 0.9667\n",
            "Epoch 10/10\n",
            "1875/1875 [==============================] - 10s 5ms/step - loss: 0.0868 - accuracy: 0.9731 - val_loss: 0.0855 - val_accuracy: 0.9734\n"
          ]
        }
      ]
    },
    {
      "cell_type": "code",
      "metadata": {
        "colab": {
          "base_uri": "https://localhost:8080/",
          "height": 295
        },
        "id": "RHYtGls7UvKv",
        "outputId": "6b0748c3-8312-4482-e75f-f12908f2cf62"
      },
      "source": [
        "import matplotlib.pyplot as plt\n",
        "from matplotlib import pyplot\n",
        "pyplot.plot(H.history['accuracy'], label ='train', color = 'red')\n",
        "pyplot.plot(H.history['val_accuracy'], label ='test', color = 'black')\n",
        "pyplot.title('lrate='+str(INIT_LR), pad = -50)"
      ],
      "execution_count": null,
      "outputs": [
        {
          "output_type": "execute_result",
          "data": {
            "text/plain": [
              "Text(0.5, 1.0, 'lrate=0.001')"
            ]
          },
          "metadata": {},
          "execution_count": 90
        },
        {
          "output_type": "display_data",
          "data": {
            "image/png": "[encoded data removed]",
            "text/plain": [
              "<Figure size 432x288 with 1 Axes>"
            ]
          },
          "metadata": {
            "needs_background": "light"
          }
        }
      ]
    },
    {
      "cell_type": "code",
      "metadata": {
        "colab": {
          "base_uri": "https://localhost:8080/",
          "height": 329
        },
        "id": "S6mMvLAmU7EP",
        "outputId": "6c303bc7-cc66-4963-a469-52984a2cad68"
      },
      "source": [
        "# le processus d'itération\n",
        "N = EPOCHS\n",
        "plt.figure()\n",
        "plt.plot(np.arange(0,N),H.history['loss'],label='loss')\n",
        "plt.plot(np.arange(0,N),H.history['accuracy'],label='train_acc')\n",
        "plt.title('Perte d entraînement et précision sur le classificateur mnist')\n",
        "plt.xlabel('Epoch')\n",
        "plt.ylabel('Loss/Accuracy')\n",
        "plt.legend(loc='lower left')\n",
        "#  Calcul de la perte et de la précision\n",
        "# train\n",
        "tr_loss, tr_accurary = model.evaluate(train_x, train_y)\n",
        "# test\n",
        "te_loss, te_accurary = model.evaluate(test_x, test_y)"
      ],
      "execution_count": null,
      "outputs": [
        {
          "output_type": "stream",
          "name": "stdout",
          "text": [
            "1875/1875 [==============================] - 7s 4ms/step - loss: 0.0770 - accuracy: 0.9764\n",
            "313/313 [==============================] - 1s 4ms/step - loss: 0.0855 - accuracy: 0.9734\n"
          ]
        },
        {
          "output_type": "display_data",
          "data": {
            "image/png": "[encoded data removed]",
            "text/plain": [
              "<Figure size 432x288 with 1 Axes>"
            ]
          },
          "metadata": {
            "needs_background": "light"
          }
        }
      ]
    }
  ]
}